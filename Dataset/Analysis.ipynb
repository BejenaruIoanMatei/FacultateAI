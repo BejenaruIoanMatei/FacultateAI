{
 "cells": [
  {
   "cell_type": "markdown",
   "metadata": {},
   "source": [
    "1. Importanta atributelor"
   ]
  },
  {
   "cell_type": "code",
   "execution_count": 5,
   "metadata": {},
   "outputs": [
    {
     "name": "stdout",
     "output_type": "stream",
     "text": [
      "   Row.names              Horodateur Sexe       Age Race Nombre Logement Zone  \\\n",
      "0          1 2021-02-09 16:36:39.042    F  Moinsde1  SBI      3      ASB    U   \n",
      "1         10 2021-02-12 18:25:58.373    F  Moinsde1  SBI      1      AAB    U   \n",
      "2        100 2021-03-06 22:04:33.192    F      2a10  EUR      4       ML    U   \n",
      "3       1000 2021-02-18 16:10:11.117    F  Moinsde1  EUR      1       ML    R   \n",
      "4       1001 2021-02-18 18:00:50.851    F       1a2  SBI      2       MI    R   \n",
      "\n",
      "   Ext  Obs  ...  Brutal  Dominant  Agressif  Impulsif  Prévisible  Distrait  \\\n",
      "0    0    0  ...       1         1         1         1           1         1   \n",
      "1    0    2  ...       2         2         3         4           4         3   \n",
      "2    0    2  ...       1         1         1         2           4         2   \n",
      "3    2    2  ...       4         3         3         3           4         4   \n",
      "4    1    2  ...       2         4         1         4           3         3   \n",
      "\n",
      "   Abondance  PredOiseau  PredMamm  \\\n",
      "0        NSP           4         4   \n",
      "1        NSP           0         0   \n",
      "2        NSP           0         0   \n",
      "3          3           0         0   \n",
      "4          3           0         0   \n",
      "\n",
      "                                                Plus  \n",
      "0                                                NaN  \n",
      "1                                                NaN  \n",
      "2  Elle ne chasse pas car elle ne sort pas, si el...  \n",
      "3                      Elle vient quand je l'appelle  \n",
      "4                                                NaN  \n",
      "\n",
      "[5 rows x 29 columns]\n",
      "Atributele din setul de date sunt:\n",
      "Index(['Row.names', 'Horodateur', 'Sexe', 'Age', 'Race', 'Nombre', 'Logement',\n",
      "       'Zone', 'Ext', 'Obs', 'Timide', 'Calme', 'Effrayé', 'Intelligent',\n",
      "       'Vigilant', 'Perséverant', 'Affectueux', 'Amical', 'Solitaire',\n",
      "       'Brutal', 'Dominant', 'Agressif', 'Impulsif', 'Prévisible', 'Distrait',\n",
      "       'Abondance', 'PredOiseau', 'PredMamm', 'Plus'],\n",
      "      dtype='object')\n"
     ]
    }
   ],
   "source": [
    "import pandas as pd\n",
    "\n",
    "file_path = '/Users/user/Documents/GitHub/FacultateAI/Homework/dataset.xlsx' \n",
    "data = pd.read_excel(file_path)\n",
    "\n",
    "print(data.head())\n",
    "\n",
    "atribute = data.columns\n",
    "print(\"Atributele din setul de date sunt:\")\n",
    "print(atribute)\n"
   ]
  },
  {
   "cell_type": "code",
   "execution_count": 7,
   "metadata": {},
   "outputs": [
    {
     "name": "stdout",
     "output_type": "stream",
     "text": [
      "Atributele din setul de date sunt:\n",
      "Row.names | Horodateur | Sexe | Age | Race | Nombre | Logement | Zone | Ext | Obs | Timide | Calme | Effrayé | Intelligent | Vigilant | Perséverant | Affectueux | Amical | Solitaire | Brutal | Dominant | Agressif | Impulsif | Prévisible | Distrait | Abondance | PredOiseau | PredMamm | Plus\n"
     ]
    }
   ],
   "source": [
    "atribute_formatate = \" | \".join(atribute)\n",
    "print(\"Atributele din setul de date sunt:\")\n",
    "print(atribute_formatate)\n"
   ]
  },
  {
   "cell_type": "code",
   "execution_count": 18,
   "metadata": {},
   "outputs": [
    {
     "name": "stdout",
     "output_type": "stream",
     "text": [
      "Row.names | Horodateur | Sexe | Age | Race | Nombre | Logement | Zone | Ext | Obs | Timide | Calme | Effrayé | Intelligent | Vigilant | Perséverant | Affectueux | Amical | Solitaire | Brutal | Dominant | Agressif | Impulsif | Prévisible | Distrait | Abondance | PredOiseau | PredMamm | Plus\n",
      "ROW.NAMES | Parliament | Sex | Age | Breed | Number | Accommodation | Area | Outdoor | Obs | Shy | Calm | Afraid | Clever | Vigilant | Persevering | Affectionate | Friendly | Lonely | Brutal | Dominant | Aggressive | Impulsive | Predictable | Distracted | Abundance | Predoiseau | Predmamm | More\n"
     ]
    }
   ],
   "source": [
    "from googletrans import Translator\n",
    "\n",
    "file_path = '/Users/user/Documents/GitHub/FacultateAI/Homework/dataset.xlsx' \n",
    "data = pd.read_excel(file_path)\n",
    "\n",
    "atribute = list(data.columns)\n",
    "\n",
    "translator = Translator()\n",
    "\n",
    "atribute_traduse = [translator.translate(atribut, src='fr', dest='en').text for atribut in atribute]\n",
    "\n",
    "print(atribute_formatate)\n",
    "print(\" | \".join(atribute_traduse))\n"
   ]
  },
  {
   "cell_type": "markdown",
   "metadata": {},
   "source": [
    "Atribute de care sa scapam :\n",
    "- Horodateur = data pisicii\n",
    "- Sexe = ce sex are (nu conteaza F sau M in predictia modelului)\n",
    "- Age = la fel nu conteaza\n",
    "- Logement = unde o tii (apartament cu doua camere, casa) de ce ar conta asta ?"
   ]
  }
 ],
 "metadata": {
  "kernelspec": {
   "display_name": "Python 3",
   "language": "python",
   "name": "python3"
  },
  "language_info": {
   "codemirror_mode": {
    "name": "ipython",
    "version": 3
   },
   "file_extension": ".py",
   "mimetype": "text/x-python",
   "name": "python",
   "nbconvert_exporter": "python",
   "pygments_lexer": "ipython3",
   "version": "3.12.6"
  },
  "orig_nbformat": 4
 },
 "nbformat": 4,
 "nbformat_minor": 2
}
